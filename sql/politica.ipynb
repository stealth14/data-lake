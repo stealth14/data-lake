{
 "cells": [
  {
   "cell_type": "code",
   "execution_count": 107,
   "metadata": {
    "scrolled": true
   },
   "outputs": [
    {
     "name": "stdout",
     "output_type": "stream",
     "text": [
      "Web : 3033\n",
      "Springr : 0\n",
      "Android : 10840\n",
      "Media Studio : 0\n",
      "otros : 6127\n"
     ]
    },
    {
     "data": {
      "image/png": "[encoded data removed]",
      "text/plain": [
       "<Figure size 432x288 with 1 Axes>"
      ]
     },
     "metadata": {},
     "output_type": "display_data"
    }
   ],
   "source": [
    "import pandas as pd\n",
    "#data set con 4 filas 2 columnas\n",
    "import matplotlib.pyplot as plt\n",
    "import numpy as np\n",
    "\n",
    "chsize = 20000\n",
    "#ejercicio\n",
    "df_chunk = pd.read_csv(r'politica.csv',low_memory=False, chunksize=chsize)\n",
    "    \n",
    "all_sources=[];\n",
    "\n",
    "for num, item in enumerate(df_chunk, start=0):\n",
    "    if num == 1:\n",
    "        break;\n",
    "    all_sources = item['source'].array\n",
    "    \n",
    "\n",
    "#web source\n",
    "\n",
    "web_source = all_sources == '<a href=\\\"https://mobile.twitter.com\\\" rel=\\\"nofollow\\\">Twitter Web App</a>'\n",
    "\n",
    "web_arr = all_sources[web_source]\n",
    "\n",
    "\n",
    "#spri\n",
    "spr_source = all_sources == \"<a href=\\\"https://www.sprinklr.com\\\" rel=\\\"nofollow\\\">Sprinklr</a>\"\n",
    "\n",
    "spr_arr = all_sources[spr_source]\n",
    "\n",
    "#android\n",
    "and_source = all_sources == \"<a href=\\\"http://twitter.com/download/android\\\" rel=\\\"nofollow\\\">Twitter for Android</a>\"\n",
    "\n",
    "and_arr = all_sources[and_source]\n",
    "\n",
    "#android\n",
    "media_source = all_sources == \"<a href=\\\"https://studio.twitter.com\\\" rel=\\\"nofollow\\\">Media Studio</a>\"\n",
    "\n",
    "media_arr = all_sources[media_source]\n",
    "\n",
    "\n",
    "# grafica\n",
    "web_size= web_arr.size\n",
    "print(\"Web :\",web_size)\n",
    "\n",
    "spr_size = spr_arr.size\n",
    "print(\"Springr :\",spr_size)\n",
    "\n",
    "and_size = and_arr.size\n",
    "print(\"Android :\",and_size)\n",
    "\n",
    "media_size = media_arr.size\n",
    "print(\"Media Studio :\",media_size)\n",
    "\n",
    "others_size = chsize - web_size - spr_size - and_size - media_size\n",
    "print(\"otros :\",others_size)\n",
    "\n",
    "\n",
    "\n",
    "labels = ['web','sprinklr','android',\"media studio\",\"otros\"]\n",
    "sizes = [web_size,spr_size,and_size,media_size,others_size]\n",
    "explode  = (0,0.1,0,0.1,0)\n",
    "\n",
    "\n",
    "fig1,ax1= plt.subplots()\n",
    "mypie = ax1.pie(sizes,explode = explode ,labels = labels,autopct = '%1.1f%%',shadow = True,startangle = 90)\n"
   ]
  },
  {
   "cell_type": "code",
   "execution_count": null,
   "metadata": {},
   "outputs": [],
   "source": []
  }
 ],
 "metadata": {
  "kernelspec": {
   "display_name": "Python 3",
   "language": "python",
   "name": "python3"
  },
  "language_info": {
   "codemirror_mode": {
    "name": "ipython",
    "version": 3
   },
   "file_extension": ".py",
   "mimetype": "text/x-python",
   "name": "python",
   "nbconvert_exporter": "python",
   "pygments_lexer": "ipython3",
   "version": "3.8.3"
  }
 },
 "nbformat": 4,
 "nbformat_minor": 4
}
